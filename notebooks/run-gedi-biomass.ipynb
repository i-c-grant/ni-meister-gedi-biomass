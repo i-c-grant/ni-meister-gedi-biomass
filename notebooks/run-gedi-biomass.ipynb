{
 "cells": [
  {
   "cell_type": "code",
   "execution_count": 1,
   "id": "25172537-794b-4135-bb28-63c0fcefbb68",
   "metadata": {},
   "outputs": [
    {
     "name": "stdout",
     "output_type": "stream",
     "text": [
      "/projects/biomass-gedi-conus/src/biomass-gedi-conus/notebooks\n"
     ]
    }
   ],
   "source": [
    "import os\n",
    "import re\n",
    "print(os.getcwd())"
   ]
  },
  {
   "cell_type": "code",
   "execution_count": 2,
   "id": "b39e76ac-d765-4b8c-baf1-fe41f3296de9",
   "metadata": {},
   "outputs": [
    {
     "name": "stdout",
     "output_type": "stream",
     "text": [
      "https://e4ftl01.cr.usgs.gov//GEDI_L1_L2/GEDI/GEDI01_B.002/2021.05.31/GEDI01_B_2021151223415_O13976_02_T00676_02_005_02_V002.h5\n",
      "\n",
      "https://e4ftl01.cr.usgs.gov//GEDI_L1_L2/GEDI/GEDI02_A.002/2021.05.31/GEDI02_A_2021151223415_O13976_02_T00676_02_003_02_V002.h5\n"
     ]
    }
   ],
   "source": [
    "l1b_urls_fpath = \"../GEDI-L1B-2021-URLS.txt\"\n",
    "l2a_urls_fpath = \"../GEDI-L2A-2021-URLS.txt\"\n",
    "\n",
    "with open(l1b_urls_fpath) as f:\n",
    "    l1b_fpaths = f.readlines()\n",
    "with open(l2a_urls_fpath) as f:\n",
    "    l2a_fpaths = f.readlines()\n",
    "\n",
    "# Get matching string pattern and run main.py\n",
    "for l1b_fp in l1b_fpaths:\n",
    "    # Get string pattern\n",
    "    str_pattern = re.findall(\"[0-9]{13}\", os.path.basename(l1b_fp))[0] \n",
    "    try:\n",
    "        l2a_fp = [s for s in l2a_fpaths if str_pattern in s][0]\n",
    "    except:\n",
    "        print(\"No matching L2 file!\", l1b_fp)\n",
    "        continue\n",
    "    \n",
    "    print(l1b_fp)\n",
    "    print(l2a_fp)\n",
    "    break"
   ]
  },
  {
   "cell_type": "code",
   "execution_count": null,
   "id": "7fe1c6f4-37c5-4fe7-b9ff-51e17b7a5cf0",
   "metadata": {},
   "outputs": [],
   "source": []
  },
  {
   "cell_type": "code",
   "execution_count": null,
   "id": "873e9ea7-d6cb-4bb9-b082-5bffb4026615",
   "metadata": {},
   "outputs": [],
   "source": []
  },
  {
   "cell_type": "code",
   "execution_count": null,
   "id": "e8a40e13-dcdd-4b7f-a3b6-d060bb52eaf5",
   "metadata": {},
   "outputs": [],
   "source": []
  },
  {
   "cell_type": "code",
   "execution_count": null,
   "id": "988420a0-1145-499c-927c-eec059c0dde9",
   "metadata": {},
   "outputs": [],
   "source": []
  },
  {
   "cell_type": "code",
   "execution_count": null,
   "id": "31626d2a-4edf-4572-81c2-7b68080e2dd3",
   "metadata": {},
   "outputs": [],
   "source": []
  },
  {
   "cell_type": "code",
   "execution_count": null,
   "id": "9ecb7ffc-319f-40c9-8f6e-d18b6ea1c890",
   "metadata": {},
   "outputs": [],
   "source": []
  }
 ],
 "metadata": {
  "kernelspec": {
   "display_name": "osgeo-env-v1",
   "language": "python",
   "name": "osgeo-env-v1"
  },
  "language_info": {
   "codemirror_mode": {
    "name": "ipython",
    "version": 3
   },
   "file_extension": ".py",
   "mimetype": "text/x-python",
   "name": "python",
   "nbconvert_exporter": "python",
   "pygments_lexer": "ipython3",
   "version": "3.11.4"
  }
 },
 "nbformat": 4,
 "nbformat_minor": 5
}
