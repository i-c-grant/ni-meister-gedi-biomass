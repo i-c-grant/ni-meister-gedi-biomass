{
 "cells": [
  {
   "cell_type": "code",
   "execution_count": 1,
   "id": "25172537-794b-4135-bb28-63c0fcefbb68",
   "metadata": {},
   "outputs": [
    {
     "name": "stderr",
     "output_type": "stream",
     "text": [
      "Unable to load config file from source maap.cfg \n",
      "Unable to load config file from source ./maap.cfg \n",
      "Unable to load config file from source /projects/maap.cfg \n"
     ]
    }
   ],
   "source": [
    "import os\n",
    "import re\n",
    "from maap.maap import MAAP\n",
    "# maap = MAAP(maap_host='api.maap-project.org')\n",
    "maap = MAAP(maap_host='api.maap-project.org')"
   ]
  },
  {
   "cell_type": "code",
   "execution_count": null,
   "id": "f176e75b-5104-478b-ade6-a84006e966b0",
   "metadata": {},
   "outputs": [],
   "source": []
  },
  {
   "cell_type": "code",
   "execution_count": 2,
   "id": "b39e76ac-d765-4b8c-baf1-fe41f3296de9",
   "metadata": {},
   "outputs": [
    {
     "name": "stdout",
     "output_type": "stream",
     "text": [
      "https://e4ftl01.cr.usgs.gov//GEDI_L1_L2/GEDI/GEDI01_B.002/2021.05.31/GEDI01_B_2021151223415_O13976_02_T00676_02_005_02_V002.h5\n",
      "\n",
      "https://e4ftl01.cr.usgs.gov//GEDI_L1_L2/GEDI/GEDI02_A.002/2021.05.31/GEDI02_A_2021151223415_O13976_02_T00676_02_003_02_V002.h5\n",
      "on file num:  1\n"
     ]
    }
   ],
   "source": [
    "l1b_urls_fpath = \"../GEDI-L1B-2021-URLS.txt\"\n",
    "l2a_urls_fpath = \"../GEDI-L2A-2021-URLS.txt\"\n",
    "\n",
    "with open(l1b_urls_fpath) as f:\n",
    "    l1b_fpaths = f.readlines()\n",
    "with open(l2a_urls_fpath) as f:\n",
    "    l2a_fpaths = f.readlines()\n",
    "\n",
    "# Get matching string pattern and run main.py\n",
    "jobs_list = []\n",
    "counter=1\n",
    "for l1b_fp in l1b_fpaths:\n",
    "    # Get string pattern\n",
    "    str_pattern = re.findall(\"[0-9]{13}\", os.path.basename(l1b_fp))[0] \n",
    "    try:\n",
    "        l2a_fp = [s for s in l2a_fpaths if str_pattern in s][0]\n",
    "    except:\n",
    "        print(\"No matching L2 file!\", l1b_fp)\n",
    "        continue\n",
    "    \n",
    "    print(l1b_fp)\n",
    "    print(l2a_fp)\n",
    "    job = maap.submitJob(identifier=\"single_file_test_run\",\n",
    "                   algo_id=\"arojas_biomass_gedi_conus\",\n",
    "                   version=\"master\",\n",
    "                   username=\"arojearthdata\",\n",
    "                   queue=\"maap-dps-worker-8gb\",\n",
    "                   L1B_URL=l1b_fp,\n",
    "                   L2A_URL=l2a_fp)\n",
    "    jobs_list.append(job)\n",
    "    \n",
    "    if counter%20:\n",
    "        print(\"on file num: \", counter)\n",
    "    counter+=1\n",
    "    break"
   ]
  },
  {
   "cell_type": "code",
   "execution_count": 3,
   "id": "8f0b9f73-ffb1-40b7-be0e-b31480571a4a",
   "metadata": {},
   "outputs": [
    {
     "name": "stdout",
     "output_type": "stream",
     "text": [
      "[{'job_id': '973bf65b-2305-441d-87eb-32b6e91e1c43', 'status': 'Accepted', 'machine_type': None, 'architecture': None, 'machine_memory_size': None, 'directory_size': None, 'operating_system': None, 'job_start_time': None, 'job_end_time': None, 'job_duration_seconds': None, 'cpu_usage': None, 'cache_usage': None, 'mem_usage': None, 'max_mem_usage': None, 'swap_usage': None, 'read_io_stats': None, 'write_io_stats': None, 'sync_io_stats': None, 'async_io_stats': None, 'total_io_stats': None, 'error_details': None, 'response_code': 200, 'outputs': []}]\n"
     ]
    }
   ],
   "source": [
    "print(jobs_list[:2])"
   ]
  },
  {
   "cell_type": "code",
   "execution_count": 4,
   "id": "7fe1c6f4-37c5-4fe7-b9ff-51e17b7a5cf0",
   "metadata": {},
   "outputs": [
    {
     "name": "stdout",
     "output_type": "stream",
     "text": [
      "Accepted\n",
      "973bf65b-2305-441d-87eb-32b6e91e1c43\n"
     ]
    }
   ],
   "source": [
    "# View job status\n",
    "for job in jobs_list:\n",
    "    print(job.retrieve_status())\n",
    "    print(job.id)\n",
    "    break"
   ]
  },
  {
   "cell_type": "code",
   "execution_count": 13,
   "id": "2018077f-9640-4e70-bd01-a9d939b3626a",
   "metadata": {},
   "outputs": [
    {
     "name": "stdout",
     "output_type": "stream",
     "text": [
      "Failed\n",
      "973bf65b-2305-441d-87eb-32b6e91e1c43\n"
     ]
    }
   ],
   "source": [
    "# View job status\n",
    "for job in jobs_list:\n",
    "    print(job.retrieve_status())\n",
    "    print(job.id)\n",
    "    break"
   ]
  },
  {
   "cell_type": "code",
   "execution_count": 14,
   "id": "873e9ea7-d6cb-4bb9-b082-5bffb4026615",
   "metadata": {},
   "outputs": [
    {
     "name": "stdout",
     "output_type": "stream",
     "text": [
      "['http://maap-ops-workspace.s3-website-us-west-2.amazonaws.com/dataset/triaged_job/arojas_biomass_gedi_conus/master/2023/09/27/973bf65b-2305-441d-87eb-32b6e91e1c43', 's3://s3-us-west-2.amazonaws.com:80/maap-ops-workspace/dataset/triaged_job/arojas_biomass_gedi_conus/master/2023/09/27/973bf65b-2305-441d-87eb-32b6e91e1c43', 'https://s3.console.aws.amazon.com/s3/buckets/maap-ops-workspace/dataset/triaged_job/arojas_biomass_gedi_conus/master/2023/09/27/973bf65b-2305-441d-87eb-32b6e91e1c43/?region=us-east-1&tab=overview', '+ export HOME=/root\\n+ HOME=/root\\n+ exec /docker-stats-on-exit-shim _docker_stats.json /app/dps_wrapper.sh /app/biomass-gedi-conus/run.sh \\'https://e4ftl01.cr.usgs.gov//GEDI_L1_L2/GEDI/GEDI01_B.002/2021.05.31/GEDI01_B_2021151223415_O13976_02_T00676_02_005_02_V002.h5\\n\\' https://e4ftl01.cr.usgs.gov//GEDI_L1_L2/GEDI/GEDI02_A.002/2021.05.31/GEDI02_A_2021151223415_O13976_02_T00676_02_003_02_V002.h5\\n+ /app/biomass-gedi-conus/run.sh \\'https://e4ftl01.cr.usgs.gov//GEDI_L1_L2/GEDI/GEDI01_B.002/2021.05.31/GEDI01_B_2021151223415_O13976_02_T00676_02_005_02_V002.h5\\n\\' https://e4ftl01.cr.usgs.gov//GEDI_L1_L2/GEDI/GEDI02_A.002/2021.05.31/GEDI02_A_2021151223415_O13976_02_T00676_02_003_02_V002.h5\\nMatplotlib created a temporary cache directory at /tmp/matplotlib-rr0rwtpl because the default path (/root/.config/matplotlib) is not a writable directory; it is highly recommended to set the MPLCONFIGDIR environment variable to a writable directory, in particular to speed up the import of Matplotlib and to better support multiprocessing.\\nFontconfig error: No writable cache directories\\nTraceback (most recent call last):\\n  File \"fiona/ogrext.pyx\", line 136, in fiona.ogrext.gdal_open_vector\\n  File \"fiona/_err.pyx\", line 291, in fiona._err.exc_wrap_pointer\\nfiona._err.CPLE_OpenFailedError: ./NEON_Domains/NEON_Domains.shp: No such file or directory\\n\\nDuring handling of the above exception, another exception occurred:\\n\\nTraceback (most recent call last):\\n  File \"/app/biomass-gedi-conus/main.py\", line 104, in <module>\\n    domain_polys = gpd.read_file(\"./NEON_Domains/NEON_Domains.shp\")\\n                   ^^^^^^^^^^^^^^^^^^^^^^^^^^^^^^^^^^^^^^^^^^^^^^^^\\n  File \"/opt/conda/envs/osgeo-env/lib/python3.11/site-packages/geopandas/io/file.py\", line 281, in _read_file\\n    return _read_file_fiona(\\n           ^^^^^^^^^^^^^^^^^\\n  File \"/opt/conda/envs/osgeo-env/lib/python3.11/site-packages/geopandas/io/file.py\", line 322, in _read_file_fiona\\n    with reader(path_or_bytes, **kwargs) as features:\\n         ^^^^^^^^^^^^^^^^^^^^^^^^^^^^^^^\\n  File \"/opt/conda/envs/osgeo-env/lib/python3.11/site-packages/fiona/env.py\", line 457, in wrapper\\n    return f(*args, **kwds)\\n           ^^^^^^^^^^^^^^^^\\n  File \"/opt/conda/envs/osgeo-env/lib/python3.11/site-packages/fiona/__init__.py\", line 292, in open\\n    colxn = Collection(\\n            ^^^^^^^^^^^\\n  File \"/opt/conda/envs/osgeo-env/lib/python3.11/site-packages/fiona/collection.py\", line 243, in __init__\\n    self.session.start(self, **kwargs)\\n  File \"fiona/ogrext.pyx\", line 588, in fiona.ogrext.Session.start\\n  File \"fiona/ogrext.pyx\", line 143, in fiona.ogrext.gdal_open_vector\\nfiona.errors.DriverError: ./NEON_Domains/NEON_Domains.shp: No such file or directory\\n+ cp _stderr.txt _alt_traceback.txt\\n']\n"
     ]
    }
   ],
   "source": [
    "# Retrieve results\n",
    "for job in jobs_list:\n",
    "    print(job.retrieve_result())\n",
    "    break"
   ]
  },
  {
   "cell_type": "code",
   "execution_count": null,
   "id": "e8a40e13-dcdd-4b7f-a3b6-d060bb52eaf5",
   "metadata": {},
   "outputs": [],
   "source": []
  },
  {
   "cell_type": "code",
   "execution_count": null,
   "id": "988420a0-1145-499c-927c-eec059c0dde9",
   "metadata": {},
   "outputs": [],
   "source": []
  },
  {
   "cell_type": "code",
   "execution_count": null,
   "id": "31626d2a-4edf-4572-81c2-7b68080e2dd3",
   "metadata": {},
   "outputs": [],
   "source": []
  },
  {
   "cell_type": "code",
   "execution_count": null,
   "id": "9ecb7ffc-319f-40c9-8f6e-d18b6ea1c890",
   "metadata": {},
   "outputs": [],
   "source": []
  }
 ],
 "metadata": {
  "kernelspec": {
   "display_name": "Python 3 (ipykernel)",
   "language": "python",
   "name": "python3"
  },
  "language_info": {
   "codemirror_mode": {
    "name": "ipython",
    "version": 3
   },
   "file_extension": ".py",
   "mimetype": "text/x-python",
   "name": "python",
   "nbconvert_exporter": "python",
   "pygments_lexer": "ipython3",
   "version": "3.10.8"
  }
 },
 "nbformat": 4,
 "nbformat_minor": 5
}
